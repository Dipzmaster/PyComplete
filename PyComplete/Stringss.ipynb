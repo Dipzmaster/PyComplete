{
 "cells": [
  {
   "cell_type": "code",
   "execution_count": 1,
   "id": "91e4b656",
   "metadata": {},
   "outputs": [
    {
     "name": "stdout",
     "output_type": "stream",
     "text": [
      "Harry\"s and \n",
      "       Harry's\n"
     ]
    }
   ],
   "source": [
    "# b = \"Harry's\" # --> Use this if you have single quotes in your strings\n",
    "# b = 'Harry\"s'\n",
    "b = '''Harry\"s and \n",
    "       Harry's'''\n",
    "print(b)\n",
    "# print(type(b))\n"
   ]
  },
  {
   "cell_type": "code",
   "execution_count": 2,
   "id": "40ec0e53",
   "metadata": {},
   "outputs": [
    {
     "name": "stdout",
     "output_type": "stream",
     "text": [
      "dooGsIyrra\n"
     ]
    }
   ],
   "source": [
    "# greeting = \"Good Morning, \"\n",
    "# name = \"Harry\"\n",
    "# print(type(name))\n",
    "\n",
    "# Concatenating two strings\n",
    "# c = greeting + name\n",
    "# print(c)\n",
    "name = \"Harry\"\n",
    "# print(name[4])\n",
    "# name[3] = \"d\" --> Does not work\n",
    "\n",
    "# print(name[1:4])\n",
    "# print(name[:4]) # is same as name[0:4]\n",
    "# print(name[1:]) # is same as name[1:5]\n",
    "# c = name[-4:-1] # is same is name[1:4]\n",
    "# print(c)\n",
    "\n",
    "name = \"HarryIsGood\"\n",
    "# d = name[0::3]\n",
    "d = name[:0:-1]\n",
    "print(d)"
   ]
  },
  {
   "cell_type": "code",
   "execution_count": 4,
   "id": "438dbca1",
   "metadata": {},
   "outputs": [
    {
     "name": "stdout",
     "output_type": "stream",
     "text": [
      "93\n",
      "False\n",
      "2\n",
      "Once upon a time there was a youtuber named harry who uploaded python course with notes harry\n",
      "5\n",
      "once upon a time there was a youtuber named CodeWithHarry who uploaded python course with notes CodeWithHarry\n"
     ]
    }
   ],
   "source": [
    "story = \"once upon a time there was a youtuber named Harry who uploaded python course with notes Harry\"\n",
    "\n",
    "# String Functions\n",
    "print(len(story))\n",
    "print(story.endswith(\"notes\"))\n",
    "print(story.count(\"c\"))\n",
    "print(story.capitalize())\n",
    "print(story.find(\"upon\"))\n",
    "print(story.replace(\"Harry\", \"CodeWithHarry\"))\n",
    " "
   ]
  },
  {
   "cell_type": "code",
   "execution_count": 5,
   "id": "be61ee0d",
   "metadata": {},
   "outputs": [
    {
     "name": "stdout",
     "output_type": "stream",
     "text": [
      "Harry is good.\n",
      "He\tis ve\\ry good\n"
     ]
    }
   ],
   "source": [
    "story = \"Harry is good.\\nHe\\tis ve\\\\ry good\"\n",
    "print(story)"
   ]
  },
  {
   "cell_type": "code",
   "execution_count": 6,
   "id": "222b0ea3",
   "metadata": {},
   "outputs": [
    {
     "name": "stdout",
     "output_type": "stream",
     "text": [
      "Enter your name\n",
      "khbjln\n",
      "Good Afternoon, khbjln\n"
     ]
    }
   ],
   "source": [
    "name = input(\"Enter your name\\n\")\n",
    "print(\"Good Afternoon, \" + name)"
   ]
  },
  {
   "cell_type": "code",
   "execution_count": 7,
   "id": "80d4afed",
   "metadata": {},
   "outputs": [
    {
     "name": "stdout",
     "output_type": "stream",
     "text": [
      "Enter Your Name\n",
      "n n \n",
      "Enter Date\n",
      "25/02/2020\n",
      "Dear n n ,\n",
      "Greetings from ABC coding house. I am happy to tell you about your selection\n",
      "You are selected!\n",
      "Have a great day ahead!\n",
      "Thanks and regards,\n",
      "Bill\n",
      "Date: 25/02/2020\n",
      "\n"
     ]
    }
   ],
   "source": [
    "letter = '''Dear <|NAME|>,\n",
    "Greetings from ABC coding house. I am happy to tell you about your selection\n",
    "You are selected!\n",
    "Have a great day ahead!\n",
    "Thanks and regards,\n",
    "Bill\n",
    "Date: <|DATE|>\n",
    "'''\n",
    "name = input(\"Enter Your Name\\n\")\n",
    "date = input(\"Enter Date\\n\")\n",
    "letter = letter.replace(\"<|NAME|>\", name)\n",
    "letter = letter.replace(\"<|DATE|>\", date)\n",
    "print(letter)"
   ]
  },
  {
   "cell_type": "code",
   "execution_count": 8,
   "id": "f1c4f8d2",
   "metadata": {},
   "outputs": [
    {
     "name": "stdout",
     "output_type": "stream",
     "text": [
      "28\n"
     ]
    }
   ],
   "source": [
    "st = \"This is a string with double  spaces\"\n",
    "\n",
    "doubleSpaces = st.find(\"  \")\n",
    "print(doubleSpaces)"
   ]
  },
  {
   "cell_type": "code",
   "execution_count": 9,
   "id": "e73d5a4e",
   "metadata": {},
   "outputs": [
    {
     "name": "stdout",
     "output_type": "stream",
     "text": [
      "This is a string with double spaces ok\n"
     ]
    }
   ],
   "source": [
    "st = \"This is a string with double  spaces  ok\"\n",
    "\n",
    "st = st.replace(\"  \", \" \")\n",
    "print(st)"
   ]
  },
  {
   "cell_type": "code",
   "execution_count": 10,
   "id": "3d2e90d2",
   "metadata": {},
   "outputs": [
    {
     "name": "stdout",
     "output_type": "stream",
     "text": [
      "Dear Harry, This Python course is nice! Thanks!\n",
      "Dear Harry,\n",
      "\tThis Python course is nice!\n",
      "Thanks!\n"
     ]
    }
   ],
   "source": [
    "letter = \"Dear Harry, This Python course is nice! Thanks!\"\n",
    "print(letter)\n",
    "\n",
    "formatted_letter = \"Dear Harry,\\n\\tThis Python course is nice!\\nThanks!\"\n",
    "print(formatted_letter)"
   ]
  },
  {
   "cell_type": "code",
   "execution_count": null,
   "id": "f5a63f71",
   "metadata": {},
   "outputs": [],
   "source": []
  }
 ],
 "metadata": {
  "kernelspec": {
   "display_name": "Python 3",
   "language": "python",
   "name": "python3"
  },
  "language_info": {
   "codemirror_mode": {
    "name": "ipython",
    "version": 3
   },
   "file_extension": ".py",
   "mimetype": "text/x-python",
   "name": "python",
   "nbconvert_exporter": "python",
   "pygments_lexer": "ipython3",
   "version": "3.8.8"
  }
 },
 "nbformat": 4,
 "nbformat_minor": 5
}
