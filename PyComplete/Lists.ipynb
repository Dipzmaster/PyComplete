{
 "cells": [
  {
   "cell_type": "code",
   "execution_count": 1,
   "id": "876a11a4",
   "metadata": {},
   "outputs": [
    {
     "name": "stdout",
     "output_type": "stream",
     "text": [
      "[1, 2, 4, 56, 6]\n",
      "4\n",
      "[98, 2, 4, 56, 6]\n",
      "[45, 'Harry', False, 6.9]\n"
     ]
    }
   ],
   "source": [
    "# Create a list using []\n",
    "a = [1, 2 , 4, 56, 6]\n",
    "\n",
    "# Print the list using print() function\n",
    "print(a)\n",
    "\n",
    "# Access using index using a[0], a[1], a[2]\n",
    "print(a[2])\n",
    "\n",
    "# Change the value of list using\n",
    "a[0] = 98\n",
    "print(a)\n",
    "\n",
    "# We can create a list with items of different types\n",
    "c = [45, \"Harry\", False, 6.9]\n",
    "print(c)\n",
    "\n"
   ]
  },
  {
   "cell_type": "code",
   "execution_count": 2,
   "id": "cf63b7e5",
   "metadata": {},
   "outputs": [
    {
     "name": "stdout",
     "output_type": "stream",
     "text": [
      "['Harry', 'Tom', 'Rohan', 'Sam']\n",
      "['Rohan', 'Sam', 'Divya', 45]\n"
     ]
    }
   ],
   "source": [
    "# List slicing\n",
    "friends = [\"Harry\", \"Tom\", \"Rohan\", \"Sam\", \"Divya\", 45]\n",
    "print(friends[0:4])\n",
    "print(friends[-4:])\n"
   ]
  },
  {
   "cell_type": "code",
   "execution_count": 3,
   "id": "3aae560a",
   "metadata": {},
   "outputs": [
    {
     "name": "stdout",
     "output_type": "stream",
     "text": [
      "[1, 8, 7, 2, 21, 15]\n",
      "[1, 8, 7, 2, 15]\n"
     ]
    }
   ],
   "source": [
    "l1 = [1, 8, 7, 2, 21, 15]\n",
    "print(l1)\n",
    "# l1.sort() # sorts the list\n",
    "# l1.reverse() # reverses the list\n",
    "#l1.append(45) # adds 45 at the end of the list \n",
    "# l1.insert(2, 544) # inserts 544 at index 2\n",
    "# l1.pop(2) # removes element at index 2\n",
    "l1.remove(21) # removes 21 from the list\n",
    "print(l1)"
   ]
  },
  {
   "cell_type": "code",
   "execution_count": 4,
   "id": "d9a6d28e",
   "metadata": {},
   "outputs": [
    {
     "name": "stdout",
     "output_type": "stream",
     "text": [
      "69\n",
      "69\n"
     ]
    }
   ],
   "source": [
    "a = [2, 4, 56, 7]\n",
    "\n",
    "print(a[0] + a[1] + a[2] + a[3])\n",
    "print(sum(a))"
   ]
  },
  {
   "cell_type": "code",
   "execution_count": 5,
   "id": "5f860124",
   "metadata": {},
   "outputs": [
    {
     "name": "stdout",
     "output_type": "stream",
     "text": [
      "(1,)\n"
     ]
    }
   ],
   "source": [
    "# Creating a tuple using ()\n",
    "t = (1, 2, 4, 5)\n",
    "\n",
    "# t1 = () # Empty tuple\n",
    "# t1 = (1) # Wrong way to declare a Tuple with Single element\n",
    "t1 = (1,) # Tuple with Single element\n",
    "print(t1)\n",
    "\n",
    "# Printing the elements of a tuple\n",
    "# print(t[0])\n",
    "\n",
    "# Cannot update the values of a tuple\n",
    "# t[0] = 34 # throws an error"
   ]
  },
  {
   "cell_type": "code",
   "execution_count": 6,
   "id": "4eb1a921",
   "metadata": {},
   "outputs": [
    {
     "name": "stdout",
     "output_type": "stream",
     "text": [
      "4\n",
      "3\n"
     ]
    }
   ],
   "source": [
    "# Creating a tuple using ()\n",
    "t = (1, 2, 4, 5, 4, 1, 2,1 ,1)\n",
    "\n",
    "print(t.count(1))\n",
    "print(t.index(5))"
   ]
  },
  {
   "cell_type": "code",
   "execution_count": 7,
   "id": "b11b3d03",
   "metadata": {},
   "outputs": [
    {
     "name": "stdout",
     "output_type": "stream",
     "text": [
      "Enter Fruit Number 1: 522\n",
      "Enter Fruit Number 2: 22\n",
      "Enter Fruit Number 3: 212\n",
      "Enter Fruit Number 4: 2223\n",
      "Enter Fruit Number 5: 33\n",
      "Enter Fruit Number 6: 322\n",
      "Enter Fruit Number 7: 221\n",
      "['522', '22', '212', '2223', '33', '322', '221']\n"
     ]
    }
   ],
   "source": [
    "f1 = input(\"Enter Fruit Number 1: \")\n",
    "f2 = input(\"Enter Fruit Number 2: \")\n",
    "f3 = input(\"Enter Fruit Number 3: \")\n",
    "f4 = input(\"Enter Fruit Number 4: \")\n",
    "f5 = input(\"Enter Fruit Number 5: \")\n",
    "f6 = input(\"Enter Fruit Number 6: \")\n",
    "f7 = input(\"Enter Fruit Number 7: \")\n",
    "\n",
    "myFruitList = [f1, f2, f3, f4, f5, f6, f7]\n",
    "print(myFruitList)"
   ]
  },
  {
   "cell_type": "code",
   "execution_count": 9,
   "id": "deae0def",
   "metadata": {},
   "outputs": [
    {
     "name": "stdout",
     "output_type": "stream",
     "text": [
      "Enter Marks for Student Number 1: 1\n",
      "Enter Marks for Student Number 2: 2\n",
      "Enter Marks for Student Number 3: 3\n",
      "Enter Marks for Student Number 4: 5\n",
      "Enter Marks for Student Number 5: 6\n",
      "Enter Marks for Student Number 6: 12\n",
      "[1, 2, 3, 5, 6, 12]\n"
     ]
    }
   ],
   "source": [
    "m1 = int(input(\"Enter Marks for Student Number 1: \"))\n",
    "m2 = int(input(\"Enter Marks for Student Number 2: \"))\n",
    "m3 = int(input(\"Enter Marks for Student Number 3: \"))\n",
    "m4 = int(input(\"Enter Marks for Student Number 4: \"))\n",
    "m5 = int(input(\"Enter Marks for Student Number 5: \"))\n",
    "m6 = int(input(\"Enter Marks for Student Number 6: \"))\n",
    "\n",
    "myList = [m1, m2, m3, m4, m5, m6]\n",
    "myList.sort()\n",
    "print(myList)"
   ]
  },
  {
   "cell_type": "code",
   "execution_count": 12,
   "id": "8230fea1",
   "metadata": {},
   "outputs": [],
   "source": [
    "a = (2,4,5,3,2)\n",
    "##a[1] = 45 'tuple' object does not support item assignment"
   ]
  },
  {
   "cell_type": "code",
   "execution_count": null,
   "id": "469e75a9",
   "metadata": {},
   "outputs": [],
   "source": []
  }
 ],
 "metadata": {
  "kernelspec": {
   "display_name": "Python 3",
   "language": "python",
   "name": "python3"
  },
  "language_info": {
   "codemirror_mode": {
    "name": "ipython",
    "version": 3
   },
   "file_extension": ".py",
   "mimetype": "text/x-python",
   "name": "python",
   "nbconvert_exporter": "python",
   "pygments_lexer": "ipython3",
   "version": "3.8.8"
  }
 },
 "nbformat": 4,
 "nbformat_minor": 5
}
