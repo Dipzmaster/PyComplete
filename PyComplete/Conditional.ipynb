{
 "cells": [
  {
   "cell_type": "code",
   "execution_count": 1,
   "id": "39d3bc17",
   "metadata": {},
   "outputs": [
    {
     "name": "stdout",
     "output_type": "stream",
     "text": [
      "The value of a is greater than 7\n",
      "The value is not greater than 3 or 7\n",
      "Done\n"
     ]
    }
   ],
   "source": [
    "a = 8\n",
    "\n",
    "# 1. if-elif-else ladder in Python\n",
    "# if(a<3): \n",
    "#     print(\"The value of a is greater than 3\")\n",
    "# elif(a>13):\n",
    "#     print(\"The value of a is greater than 13\")\n",
    "# elif(a>7):\n",
    "#     print(\"The value of a is greater than 7\")\n",
    "# elif(a>17):\n",
    "#     print(\"The value of a is greater than 17\")\n",
    "# else:\n",
    "#     print(\"The value is not greater than 3 or 7\")\n",
    "\n",
    "# 2. Multiple if statements\n",
    "if(a<3): \n",
    "    print(\"The value of a is greater than 3\")\n",
    "\n",
    "if(a>13):\n",
    "    print(\"The value of a is greater than 13\")\n",
    "    \n",
    "if(a>7):\n",
    "    print(\"The value of a is greater than 7\")\n",
    "\n",
    "if(a>17):\n",
    "    print(\"The value of a is greater than 17\")\n",
    "else:\n",
    "    print(\"The value is not greater than 3 or 7\")\n",
    "\n",
    "print(\"Done\")"
   ]
  },
  {
   "cell_type": "code",
   "execution_count": 2,
   "id": "3ad436d9",
   "metadata": {},
   "outputs": [
    {
     "name": "stdout",
     "output_type": "stream",
     "text": [
      "Enter your age: 32\n",
      "Yes\n"
     ]
    }
   ],
   "source": [
    "age = int(input(\"Enter your age: \"))\n",
    "\n",
    "if age>18:\n",
    "    print(\"Yes\")\n",
    "else:\n",
    "    print(\"No\")"
   ]
  },
  {
   "cell_type": "code",
   "execution_count": 3,
   "id": "fc017cae",
   "metadata": {},
   "outputs": [
    {
     "name": "stdout",
     "output_type": "stream",
     "text": [
      "Enter your age: 56\n",
      "You can work with us\n"
     ]
    }
   ],
   "source": [
    "age = int(input(\"Enter your age: \"))\n",
    "if(age>34 or age<56):\n",
    "    print(\"You can work with us\")\n",
    "\n",
    "else:\n",
    "    print(\"You cannot work with us\")"
   ]
  },
  {
   "cell_type": "code",
   "execution_count": 4,
   "id": "1e8d14de",
   "metadata": {},
   "outputs": [
    {
     "name": "stdout",
     "output_type": "stream",
     "text": [
      "False\n"
     ]
    }
   ],
   "source": [
    "# a = None\n",
    "# if (a is None):\n",
    "#     print(\"Yes\")\n",
    "# else:\n",
    "#     print(\"No\")\n",
    "\n",
    "a = [45, 56, 6]\n",
    "print(435 in a)"
   ]
  },
  {
   "cell_type": "code",
   "execution_count": 5,
   "id": "4226d7cc",
   "metadata": {},
   "outputs": [
    {
     "name": "stdout",
     "output_type": "stream",
     "text": [
      "I am optional\n"
     ]
    }
   ],
   "source": [
    "a = 6\n",
    "if(a==7):\n",
    "    print(\"yes\")\n",
    "elif(a>56):\n",
    "    print(\"no and yes\")\n",
    "else:\n",
    "    print(\"I am optional\")"
   ]
  },
  {
   "cell_type": "code",
   "execution_count": 6,
   "id": "ce03ee1e",
   "metadata": {},
   "outputs": [
    {
     "name": "stdout",
     "output_type": "stream",
     "text": [
      "Enter number 1: 5\n",
      "Enter number 2: 3\n",
      "Enter number 3: 22\n",
      "Enter number 4: 223\n",
      "223 is greatest\n"
     ]
    }
   ],
   "source": [
    "num1 = int(input(\"Enter number 1: \"))\n",
    "num2 = int(input(\"Enter number 2: \"))\n",
    "num3 = int(input(\"Enter number 3: \"))\n",
    "num4 = int(input(\"Enter number 4: \"))\n",
    "\n",
    "if(num1>num4):\n",
    "    f1 = num1\n",
    "else:\n",
    "    f1 = num4\n",
    "\n",
    "if(num2>num3):\n",
    "    f2 = num2\n",
    "else:\n",
    "    f2 = num3\n",
    "\n",
    "if(f1>f2):\n",
    "    print(str(f1) + \" is greatest\")\n",
    "else:\n",
    "    print(str(f2) + \" is greatest\")"
   ]
  },
  {
   "cell_type": "code",
   "execution_count": 8,
   "id": "c237a47b",
   "metadata": {},
   "outputs": [
    {
     "name": "stdout",
     "output_type": "stream",
     "text": [
      "Enter first subject marks\n",
      "63\n",
      "Enter second subject marks\n",
      "56\n",
      "Enter third subject marks\n",
      "78\n",
      "Congatulations! You passed the exam\n"
     ]
    }
   ],
   "source": [
    "sub1 = int(input(\"Enter first subject marks\\n\"))\n",
    "sub2 = int(input(\"Enter second subject marks\\n\"))\n",
    "sub3 = int(input(\"Enter third subject marks\\n\"))\n",
    "\n",
    "if(sub1<33 or sub2<33 or sub3<33):\n",
    "    print(\"You are fail because you have less than 33% in one of the subjects\")\n",
    "elif(sub1+sub2+sub3)/3 < 40:\n",
    "    print(\"You are fail due to total percentage less than 40\")\n",
    "else:\n",
    "    print(\"Congatulations! You passed the exam\")"
   ]
  },
  {
   "cell_type": "code",
   "execution_count": 9,
   "id": "205a0fd5",
   "metadata": {},
   "outputs": [
    {
     "name": "stdout",
     "output_type": "stream",
     "text": [
      "Enter the text\n",
      "hj\n",
      "This text is not spam\n"
     ]
    }
   ],
   "source": [
    "text = input(\"Enter the text\\n\")\n",
    "\n",
    "if(\"make a lot of money\" in text):\n",
    "    spam = True\n",
    "elif(\"buy now\" in text):\n",
    "    spam = True\n",
    "elif(\"click this\" in text):\n",
    "    spam = True\n",
    "elif(\"subscribe this\" in text):\n",
    "    spam = True\n",
    "else:\n",
    "    spam = False\n",
    "\n",
    "if(spam):\n",
    "    print(\"This text is spam\")\n",
    "else:\n",
    "    print(\"This text is not spam\")"
   ]
  },
  {
   "cell_type": "code",
   "execution_count": 10,
   "id": "09915239",
   "metadata": {},
   "outputs": [
    {
     "name": "stdout",
     "output_type": "stream",
     "text": [
      "Enter the name to check\n",
      "hi\n",
      "Your name is not present in the list\n"
     ]
    }
   ],
   "source": [
    "names = [\"harry\", \"shubham\", \"rohit\", \"rohan\", \"aditi\", \"shipra\"]\n",
    "name = input(\"Enter the name to check\\n\")\n",
    "\n",
    "if name in names:\n",
    "    print(\"Your name is present in the list\")\n",
    "else:\n",
    "    print(\"Your name is not present in the list\")"
   ]
  },
  {
   "cell_type": "code",
   "execution_count": 11,
   "id": "1ec622fe",
   "metadata": {},
   "outputs": [
    {
     "name": "stdout",
     "output_type": "stream",
     "text": [
      "Enter Your Marks\n",
      "85\n",
      "Your grade is A\n"
     ]
    }
   ],
   "source": [
    "marks = int(input(\"Enter Your Marks\\n\"))\n",
    "\n",
    "if marks>=90:\n",
    "    grade = \"Ex\"\n",
    "elif marks>=80:\n",
    "    grade = \"A\"\n",
    "elif marks>=70:\n",
    "    grade = \"B\"\n",
    "elif marks>=60:\n",
    "    grade = \"C\"\n",
    "elif marks>=50:\n",
    "    grade = \"D\" \n",
    "else:\n",
    "    grade = \"F\"\n",
    "\n",
    "print(\"Your grade is \" + grade)"
   ]
  },
  {
   "cell_type": "code",
   "execution_count": null,
   "id": "2df7fa30",
   "metadata": {},
   "outputs": [],
   "source": []
  }
 ],
 "metadata": {
  "kernelspec": {
   "display_name": "Python 3",
   "language": "python",
   "name": "python3"
  },
  "language_info": {
   "codemirror_mode": {
    "name": "ipython",
    "version": 3
   },
   "file_extension": ".py",
   "mimetype": "text/x-python",
   "name": "python",
   "nbconvert_exporter": "python",
   "pygments_lexer": "ipython3",
   "version": "3.8.8"
  }
 },
 "nbformat": 4,
 "nbformat_minor": 5
}
