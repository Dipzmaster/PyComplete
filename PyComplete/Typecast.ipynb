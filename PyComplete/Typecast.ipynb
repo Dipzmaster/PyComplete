{
 "cells": [
  {
   "cell_type": "code",
   "execution_count": 2,
   "id": "8bfe8b91",
   "metadata": {},
   "outputs": [
    {
     "name": "stdout",
     "output_type": "stream",
     "text": [
      "<class 'int'>\n",
      "361\n"
     ]
    }
   ],
   "source": [
    "a = \"35fgrfg34\"\n",
    "a = \"356\"\n",
    "a = int(a)\n",
    "print(type(a))\n",
    "print(a + 5)"
   ]
  },
  {
   "cell_type": "code",
   "execution_count": 3,
   "id": "895fba1a",
   "metadata": {},
   "outputs": [
    {
     "name": "stdout",
     "output_type": "stream",
     "text": [
      "Enter a number: 256\n",
      "<class 'int'>\n"
     ]
    }
   ],
   "source": [
    "a = input(\"Enter a number: \")\n",
    "a = int(a) # Convert a to an Integer(if possible)\n",
    "print(type(a))"
   ]
  },
  {
   "cell_type": "code",
   "execution_count": 4,
   "id": "b8e76a49",
   "metadata": {},
   "outputs": [
    {
     "name": "stdout",
     "output_type": "stream",
     "text": [
      "The sum of a and b is 45\n"
     ]
    }
   ],
   "source": [
    "a = 30\n",
    "b = 15\n",
    "print(\"The sum of a and b is\", a + b)"
   ]
  },
  {
   "cell_type": "code",
   "execution_count": 5,
   "id": "332dc933",
   "metadata": {},
   "outputs": [
    {
     "name": "stdout",
     "output_type": "stream",
     "text": [
      "The remainder when a is divided by b is 8\n"
     ]
    }
   ],
   "source": [
    "a = 458\n",
    "b = 15\n",
    "\n",
    "print(\"The remainder when a is divided by b is\", a%b)"
   ]
  },
  {
   "cell_type": "code",
   "execution_count": 6,
   "id": "7f378d60",
   "metadata": {},
   "outputs": [
    {
     "name": "stdout",
     "output_type": "stream",
     "text": [
      "Enter first number: 522\n",
      "Enter second number: 222\n",
      "The average of a and b is 372.0\n"
     ]
    }
   ],
   "source": [
    "a = input(\"Enter first number: \")\n",
    "b = input(\"Enter second number: \")\n",
    "a = int(a)\n",
    "b = int(b)\n",
    "avg = (a + b)/2\n",
    "print(\"The average of a and b is\", avg)"
   ]
  },
  {
   "cell_type": "code",
   "execution_count": null,
   "id": "fae0afe4",
   "metadata": {},
   "outputs": [],
   "source": []
  }
 ],
 "metadata": {
  "kernelspec": {
   "display_name": "Python 3",
   "language": "python",
   "name": "python3"
  },
  "language_info": {
   "codemirror_mode": {
    "name": "ipython",
    "version": 3
   },
   "file_extension": ".py",
   "mimetype": "text/x-python",
   "name": "python",
   "nbconvert_exporter": "python",
   "pygments_lexer": "ipython3",
   "version": "3.8.8"
  }
 },
 "nbformat": 4,
 "nbformat_minor": 5
}
